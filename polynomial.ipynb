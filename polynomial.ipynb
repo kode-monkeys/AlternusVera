{
  "nbformat": 4,
  "nbformat_minor": 0,
  "metadata": {
    "colab": {
      "name": "fake-news.ipynb",
      "version": "0.3.2",
      "provenance": [],
      "collapsed_sections": []
    },
    "kernelspec": {
      "display_name": "Python 3",
      "language": "python",
      "name": "python3"
    }
  },
  "cells": [
    {
      "metadata": {
        "id": "IfR5Pe1SOYO7",
        "colab_type": "text"
      },
      "cell_type": "markdown",
      "source": [
        "Vijay Samuel Alexander Vaseeharan - 012506546\n",
        "Feature worked on - grammar and spelling errors on statements, religious context and overall polynomial equation\n",
        "\n"
      ]
    },
    {
      "metadata": {
        "id": "_n8zF4r2Ojo2",
        "colab_type": "text"
      },
      "cell_type": "markdown",
      "source": [
        "First we clone our repo from github to get the datasets"
      ]
    },
    {
      "metadata": {
        "id": "rJJ-QOWHT3Z1",
        "colab_type": "code",
        "outputId": "daab905f-9392-4269-aa26-6af9d04892b7",
        "colab": {
          "base_uri": "https://localhost:8080/",
          "height": 119
        }
      },
      "cell_type": "code",
      "source": [
        "import numpy as np \n",
        "import pandas as pd\n",
        "import io\n",
        "import matplotlib.pyplot as plt\n",
        "from sklearn.model_selection import train_test_split\n",
        "from sklearn import linear_model\n",
        "\n",
        "#clone our github project so that we can load in all datasets\n",
        "!git clone https://github.com/kode-monkeys/AlternusVera.git"
      ],
      "execution_count": 79,
      "outputs": [
        {
          "output_type": "stream",
          "text": [
            "Cloning into 'AlternusVera'...\n",
            "remote: Enumerating objects: 11, done.\u001b[K\n",
            "remote: Counting objects: 100% (11/11), done.\u001b[K\n",
            "remote: Compressing objects: 100% (9/9), done.\u001b[K\n",
            "remote: Total 17 (delta 2), reused 10 (delta 2), pack-reused 6\u001b[K\n",
            "Unpacking objects: 100% (17/17), done.\n"
          ],
          "name": "stdout"
        }
      ]
    },
    {
      "metadata": {
        "id": "8zaTpVfIOvio",
        "colab_type": "text"
      },
      "cell_type": "markdown",
      "source": [
        "Create DFs for all the uploaded dataset files."
      ]
    },
    {
      "metadata": {
        "id": "SLWKH37GT3Z6",
        "colab_type": "code",
        "outputId": "ca9c6969-7e7a-4984-800f-ea7774b77b57",
        "colab": {
          "base_uri": "https://localhost:8080/",
          "height": 306
        }
      },
      "cell_type": "code",
      "source": [
        "header_row = [\"id\",\"label\",\"text\",\"subject\",\"speaker\",\"title\",\"state\",\"party\",\"barely true\",\"false\",\"half true\",\"mostly true\",\"pants on fire\",\"context\"]\n",
        "\n",
        "df= pd.read_csv('AlternusVera/datasets/train.tsv',sep='\\t',encoding='Latin1', names=header_row)\n",
        "training = df\n",
        "testing= pd.read_csv('AlternusVera/datasets/data.tsv',sep='\\t',encoding='Latin1', names=header_row)\n",
        "validation = pd.read_csv('AlternusVera/datasets/valid.tsv',sep='\\t',encoding='Latin1', names=header_row)\n",
        "df.head()"
      ],
      "execution_count": 85,
      "outputs": [
        {
          "output_type": "execute_result",
          "data": {
            "text/html": [
              "<div>\n",
              "<style scoped>\n",
              "    .dataframe tbody tr th:only-of-type {\n",
              "        vertical-align: middle;\n",
              "    }\n",
              "\n",
              "    .dataframe tbody tr th {\n",
              "        vertical-align: top;\n",
              "    }\n",
              "\n",
              "    .dataframe thead th {\n",
              "        text-align: right;\n",
              "    }\n",
              "</style>\n",
              "<table border=\"1\" class=\"dataframe\">\n",
              "  <thead>\n",
              "    <tr style=\"text-align: right;\">\n",
              "      <th></th>\n",
              "      <th>id</th>\n",
              "      <th>label</th>\n",
              "      <th>text</th>\n",
              "      <th>subject</th>\n",
              "      <th>speaker</th>\n",
              "      <th>title</th>\n",
              "      <th>state</th>\n",
              "      <th>party</th>\n",
              "      <th>barely true</th>\n",
              "      <th>false</th>\n",
              "      <th>half true</th>\n",
              "      <th>mostly true</th>\n",
              "      <th>pants on fire</th>\n",
              "      <th>context</th>\n",
              "    </tr>\n",
              "  </thead>\n",
              "  <tbody>\n",
              "    <tr>\n",
              "      <th>0</th>\n",
              "      <td>2635.json</td>\n",
              "      <td>false</td>\n",
              "      <td>Says the Annies List political group supports ...</td>\n",
              "      <td>abortion</td>\n",
              "      <td>dwayne-bohac</td>\n",
              "      <td>State representative</td>\n",
              "      <td>Texas</td>\n",
              "      <td>republican</td>\n",
              "      <td>0.0</td>\n",
              "      <td>1.0</td>\n",
              "      <td>0.0</td>\n",
              "      <td>0.0</td>\n",
              "      <td>0.0</td>\n",
              "      <td>a mailer</td>\n",
              "    </tr>\n",
              "    <tr>\n",
              "      <th>1</th>\n",
              "      <td>10540.json</td>\n",
              "      <td>half-true</td>\n",
              "      <td>When did the decline of coal start? It started...</td>\n",
              "      <td>energy,history,job-accomplishments</td>\n",
              "      <td>scott-surovell</td>\n",
              "      <td>State delegate</td>\n",
              "      <td>Virginia</td>\n",
              "      <td>democrat</td>\n",
              "      <td>0.0</td>\n",
              "      <td>0.0</td>\n",
              "      <td>1.0</td>\n",
              "      <td>1.0</td>\n",
              "      <td>0.0</td>\n",
              "      <td>a floor speech.</td>\n",
              "    </tr>\n",
              "    <tr>\n",
              "      <th>2</th>\n",
              "      <td>324.json</td>\n",
              "      <td>mostly-true</td>\n",
              "      <td>Hillary Clinton agrees with John McCain \"by vo...</td>\n",
              "      <td>foreign-policy</td>\n",
              "      <td>barack-obama</td>\n",
              "      <td>President</td>\n",
              "      <td>Illinois</td>\n",
              "      <td>democrat</td>\n",
              "      <td>70.0</td>\n",
              "      <td>71.0</td>\n",
              "      <td>160.0</td>\n",
              "      <td>163.0</td>\n",
              "      <td>9.0</td>\n",
              "      <td>Denver</td>\n",
              "    </tr>\n",
              "    <tr>\n",
              "      <th>3</th>\n",
              "      <td>1123.json</td>\n",
              "      <td>false</td>\n",
              "      <td>Health care reform legislation is likely to ma...</td>\n",
              "      <td>health-care</td>\n",
              "      <td>blog-posting</td>\n",
              "      <td>NaN</td>\n",
              "      <td>NaN</td>\n",
              "      <td>none</td>\n",
              "      <td>7.0</td>\n",
              "      <td>19.0</td>\n",
              "      <td>3.0</td>\n",
              "      <td>5.0</td>\n",
              "      <td>44.0</td>\n",
              "      <td>a news release</td>\n",
              "    </tr>\n",
              "    <tr>\n",
              "      <th>4</th>\n",
              "      <td>9028.json</td>\n",
              "      <td>half-true</td>\n",
              "      <td>The economic turnaround started at the end of ...</td>\n",
              "      <td>economy,jobs</td>\n",
              "      <td>charlie-crist</td>\n",
              "      <td>NaN</td>\n",
              "      <td>Florida</td>\n",
              "      <td>democrat</td>\n",
              "      <td>15.0</td>\n",
              "      <td>9.0</td>\n",
              "      <td>20.0</td>\n",
              "      <td>19.0</td>\n",
              "      <td>2.0</td>\n",
              "      <td>an interview on CNN</td>\n",
              "    </tr>\n",
              "  </tbody>\n",
              "</table>\n",
              "</div>"
            ],
            "text/plain": [
              "           id        label                                               text  \\\n",
              "0   2635.json        false  Says the Annies List political group supports ...   \n",
              "1  10540.json    half-true  When did the decline of coal start? It started...   \n",
              "2    324.json  mostly-true  Hillary Clinton agrees with John McCain \"by vo...   \n",
              "3   1123.json        false  Health care reform legislation is likely to ma...   \n",
              "4   9028.json    half-true  The economic turnaround started at the end of ...   \n",
              "\n",
              "                              subject         speaker                 title  \\\n",
              "0                            abortion    dwayne-bohac  State representative   \n",
              "1  energy,history,job-accomplishments  scott-surovell        State delegate   \n",
              "2                      foreign-policy    barack-obama             President   \n",
              "3                         health-care    blog-posting                   NaN   \n",
              "4                        economy,jobs   charlie-crist                   NaN   \n",
              "\n",
              "      state       party  barely true  false  half true  mostly true  \\\n",
              "0     Texas  republican          0.0    1.0        0.0          0.0   \n",
              "1  Virginia    democrat          0.0    0.0        1.0          1.0   \n",
              "2  Illinois    democrat         70.0   71.0      160.0        163.0   \n",
              "3       NaN        none          7.0   19.0        3.0          5.0   \n",
              "4   Florida    democrat         15.0    9.0       20.0         19.0   \n",
              "\n",
              "   pants on fire              context  \n",
              "0            0.0             a mailer  \n",
              "1            0.0      a floor speech.  \n",
              "2            9.0               Denver  \n",
              "3           44.0       a news release  \n",
              "4            2.0  an interview on CNN  "
            ]
          },
          "metadata": {
            "tags": []
          },
          "execution_count": 85
        }
      ]
    },
    {
      "metadata": {
        "id": "gKghLRLNUjPR",
        "colab_type": "code",
        "colab": {}
      },
      "cell_type": "code",
      "source": [
        "df['fake']=df['label']\n",
        "df['fake']=np.where(df['label']=='half-true','true',df['fake'])\n",
        "df['fake']=np.where(df['label']=='mostly-true','true',df['fake'])\n",
        "df['fake']=np.where(df['label']=='barely-true','false',df['fake'])\n",
        "df['fake']=np.where(df['label']=='pants-fire','false',df['fake'])"
      ],
      "execution_count": 0,
      "outputs": []
    },
    {
      "metadata": {
        "id": "mwOVpAtfT3aB",
        "colab_type": "code",
        "outputId": "1a557736-ae67-46c3-8500-0e59ca47e225",
        "colab": {
          "base_uri": "https://localhost:8080/",
          "height": 187
        }
      },
      "cell_type": "code",
      "source": [
        "df.max()"
      ],
      "execution_count": 0,
      "outputs": [
        {
          "output_type": "execute_result",
          "data": {
            "text/plain": [
              "id                                                       9998.json\n",
              "label                                                         true\n",
              "text             ï»¿ï»¿Since Mayor Kennedy OBrien took office S...\n",
              "barely true                                                     70\n",
              "false                                                          114\n",
              "half true                                                      160\n",
              "mostly true                                                    163\n",
              "pants on fire                                                  105\n",
              "fake                                                          true\n",
              "dtype: object"
            ]
          },
          "metadata": {
            "tags": []
          },
          "execution_count": 5
        }
      ]
    },
    {
      "metadata": {
        "id": "iW-gfUWZT3aE",
        "colab_type": "code",
        "outputId": "3a67a4fb-f059-4f93-b887-eb06826a3d05",
        "colab": {
          "base_uri": "https://localhost:8080/",
          "height": 187
        }
      },
      "cell_type": "code",
      "source": [
        "df.min()"
      ],
      "execution_count": 0,
      "outputs": [
        {
          "output_type": "execute_result",
          "data": {
            "text/plain": [
              "id                                                          1.json\n",
              "label                                                  barely-true\n",
              "text             #Business formation is still on the rise in Oh...\n",
              "barely true                                                      0\n",
              "false                                                            0\n",
              "half true                                                        0\n",
              "mostly true                                                      0\n",
              "pants on fire                                                    0\n",
              "fake                                                         false\n",
              "dtype: object"
            ]
          },
          "metadata": {
            "tags": []
          },
          "execution_count": 6
        }
      ]
    },
    {
      "metadata": {
        "id": "9GqnsgWKO1qB",
        "colab_type": "text"
      },
      "cell_type": "markdown",
      "source": [
        "Install all required packages and binaries needed for the workbook to work."
      ]
    },
    {
      "metadata": {
        "id": "IFcjgxa4W4XO",
        "colab_type": "code",
        "outputId": "8e21e1de-9cc6-4d13-d29a-3772b2a222c7",
        "colab": {
          "base_uri": "https://localhost:8080/",
          "height": 547
        }
      },
      "cell_type": "code",
      "source": [
        "import os       #importing os to set environment variable\n",
        "def install_java():\n",
        "  !apt-get install openjdk-8-jdk-headless -qq       #install openjdk\n",
        "  os.environ[\"JAVA_HOME\"] = \"/usr/lib/jvm/java-8-openjdk-amd64\"     #set environment variable\n",
        "  os.environ[\"PATH\"] = \"/usr/lib/jvm/java-8-openjdk-amd64/bin:\" + os.environ['PATH']\n",
        "  !echo $PATH\n",
        "  !java -version       #check java version\n",
        "install_java()\n",
        "!pip install language_check\n",
        "!apt-get install python3-enchant > /dev/null\n",
        "!pip install gensim"
      ],
      "execution_count": 0,
      "outputs": [
        {
          "output_type": "stream",
          "text": [
            "/usr/lib/jvm/java-8-openjdk-amd64/bin:/usr/local/bin:/usr/local/nvidia/bin:/usr/local/cuda/bin:/usr/local/sbin:/usr/local/bin:/usr/sbin:/usr/bin:/sbin:/bin:/tools/node/bin:/tools/google-cloud-sdk/bin:/opt/bin\n",
            "openjdk version \"1.8.0_191\"\n",
            "OpenJDK Runtime Environment (build 1.8.0_191-8u191-b12-0ubuntu0.18.04.1-b12)\n",
            "OpenJDK 64-Bit Server VM (build 25.191-b12, mixed mode)\n",
            "Collecting language_check\n",
            "  Using cached https://files.pythonhosted.org/packages/97/45/0fd1d3683d6129f30fa09143fa383cdf6dff8bc0d1648f2cf156109cb772/language-check-1.1.tar.gz\n",
            "Building wheels for collected packages: language-check\n",
            "  Running setup.py bdist_wheel for language-check ... \u001b[?25l-\b \b\\\b \b|\b \b/\b \b-\b \b\\\b \b|\b \b/\b \b-\b \b\\\b \b|\b \b/\b \b-\b \b\\\b \b|\b \b/\b \b-\b \b\\\b \b|\b \b/\b \b-\b \b\\\b \b|\b \b/\b \b-\b \b\\\b \b|\b \b/\b \b-\b \b\\\b \b|\b \b/\b \b-\b \b\\\b \b|\b \b/\b \b-\b \b\\\b \b|\b \b/\b \b-\b \b\\\b \b|\b \b/\b \b-\b \b\\\b \b|\b \b/\b \b-\b \b\\\b \b|\b \b/\b \b-\b \b\\\b \b|\b \b/\b \b-\b \b\\\b \b|\b \b/\b \b-\b \b\\\b \b|\b \bdone\n",
            "\u001b[?25h  Stored in directory: /root/.cache/pip/wheels/d5/46/82/90a89c23eac1837364ed7217a9eed71bc9e6ad4825be93968e\n",
            "Successfully built language-check\n",
            "Installing collected packages: language-check\n",
            "Successfully installed language-check-1.1\n",
            "Requirement already satisfied: gensim in /usr/local/lib/python3.6/dist-packages (3.6.0)\n",
            "Requirement already satisfied: scipy>=0.18.1 in /usr/local/lib/python3.6/dist-packages (from gensim) (1.1.0)\n",
            "Requirement already satisfied: numpy>=1.11.3 in /usr/local/lib/python3.6/dist-packages (from gensim) (1.14.6)\n",
            "Requirement already satisfied: six>=1.5.0 in /usr/local/lib/python3.6/dist-packages (from gensim) (1.11.0)\n",
            "Requirement already satisfied: smart-open>=1.2.1 in /usr/local/lib/python3.6/dist-packages (from gensim) (1.7.1)\n",
            "Requirement already satisfied: boto>=2.32 in /usr/local/lib/python3.6/dist-packages (from smart-open>=1.2.1->gensim) (2.49.0)\n",
            "Requirement already satisfied: bz2file in /usr/local/lib/python3.6/dist-packages (from smart-open>=1.2.1->gensim) (0.98)\n",
            "Requirement already satisfied: requests in /usr/local/lib/python3.6/dist-packages (from smart-open>=1.2.1->gensim) (2.18.4)\n",
            "Requirement already satisfied: boto3 in /usr/local/lib/python3.6/dist-packages (from smart-open>=1.2.1->gensim) (1.9.62)\n",
            "Requirement already satisfied: certifi>=2017.4.17 in /usr/local/lib/python3.6/dist-packages (from requests->smart-open>=1.2.1->gensim) (2018.11.29)\n",
            "Requirement already satisfied: idna<2.7,>=2.5 in /usr/local/lib/python3.6/dist-packages (from requests->smart-open>=1.2.1->gensim) (2.6)\n",
            "Requirement already satisfied: chardet<3.1.0,>=3.0.2 in /usr/local/lib/python3.6/dist-packages (from requests->smart-open>=1.2.1->gensim) (3.0.4)\n",
            "Requirement already satisfied: urllib3<1.23,>=1.21.1 in /usr/local/lib/python3.6/dist-packages (from requests->smart-open>=1.2.1->gensim) (1.22)\n",
            "Requirement already satisfied: s3transfer<0.2.0,>=0.1.10 in /usr/local/lib/python3.6/dist-packages (from boto3->smart-open>=1.2.1->gensim) (0.1.13)\n",
            "Requirement already satisfied: botocore<1.13.0,>=1.12.62 in /usr/local/lib/python3.6/dist-packages (from boto3->smart-open>=1.2.1->gensim) (1.12.62)\n",
            "Requirement already satisfied: jmespath<1.0.0,>=0.7.1 in /usr/local/lib/python3.6/dist-packages (from boto3->smart-open>=1.2.1->gensim) (0.9.3)\n",
            "Requirement already satisfied: docutils>=0.10 in /usr/local/lib/python3.6/dist-packages (from botocore<1.13.0,>=1.12.62->boto3->smart-open>=1.2.1->gensim) (0.14)\n",
            "Requirement already satisfied: python-dateutil<3.0.0,>=2.1; python_version >= \"2.7\" in /usr/local/lib/python3.6/dist-packages (from botocore<1.13.0,>=1.12.62->boto3->smart-open>=1.2.1->gensim) (2.5.3)\n"
          ],
          "name": "stdout"
        }
      ]
    },
    {
      "metadata": {
        "id": "lShA6RImO5gi",
        "colab_type": "text"
      },
      "cell_type": "markdown",
      "source": [
        "Use language check to define a method that can do a grammar check for all statements that are part of the dataset and create a field called \"grammar_check\" using that method for all 'text' fields entries."
      ]
    },
    {
      "metadata": {
        "colab_type": "code",
        "id": "LxB8UfDMv3wR",
        "colab": {}
      },
      "cell_type": "code",
      "source": [
        "import language_check\n",
        "tool = language_check.LanguageTool('en-US')\n",
        "\n",
        "def grammar_check(article):\n",
        "  matches = tool.check(article)\n",
        "  return len(matches)"
      ],
      "execution_count": 0,
      "outputs": []
    },
    {
      "metadata": {
        "id": "uBB7Qi7RT3ad",
        "colab_type": "code",
        "colab": {}
      },
      "cell_type": "code",
      "source": [
        "df['grammar_error']=df['text'].map(lambda x: grammar_check(x))"
      ],
      "execution_count": 0,
      "outputs": []
    },
    {
      "metadata": {
        "id": "2ycz3UkmPEmr",
        "colab_type": "text"
      },
      "cell_type": "markdown",
      "source": [
        "Use pyenchant library to define a method which can do spelling checks on all the words of each sentence and report the count of all errors in a statement. A field called \"spell_error\" is created using this method. It is noted that feature importance shows spelling errors are more important than grammar errors. This is because news headlines tend to have grammar errors due to half sentences. Spelling errors are more common in articles from lesser reputed sources which are most likely to be fake\n"
      ]
    },
    {
      "metadata": {
        "id": "RTedyhDwZk9U",
        "colab_type": "code",
        "outputId": "b8534fe1-0a05-4b5f-b64b-f782866167bf",
        "colab": {
          "base_uri": "https://localhost:8080/",
          "height": 85
        }
      },
      "cell_type": "code",
      "source": [
        "import nltk\n",
        "nltk.download('wordnet')\n",
        "nltk.download('punkt')\n",
        "from nltk.corpus import wordnet\n",
        "\n",
        "import enchant\n",
        "enchant = enchant.Dict(\"en_US\")\n",
        "def spell_check_article(article):\n",
        "    article=article.replace('-',' ');\n",
        "    article_tokenized=nltk.word_tokenize(article)\n",
        "    total_word_count=len(article_tokenized)\n",
        "    words_with_error_count=0\n",
        "    for w in article_tokenized:\n",
        "        if (not wordnet.synsets(w)) and (not enchant.check(w)):\n",
        "            words_with_error_count+=1\n",
        "    return words_with_error_count,(words_with_error_count/total_word_count*100)"
      ],
      "execution_count": 0,
      "outputs": [
        {
          "output_type": "stream",
          "text": [
            "[nltk_data] Downloading package wordnet to /root/nltk_data...\n",
            "[nltk_data]   Unzipping corpora/wordnet.zip.\n",
            "[nltk_data] Downloading package punkt to /root/nltk_data...\n",
            "[nltk_data]   Unzipping tokenizers/punkt.zip.\n"
          ],
          "name": "stdout"
        }
      ]
    },
    {
      "metadata": {
        "id": "2xmaKzV9Z_uF",
        "colab_type": "code",
        "outputId": "ee3e75a9-9de6-4c1d-841e-51fcd4b2a5cd",
        "colab": {
          "base_uri": "https://localhost:8080/",
          "height": 824
        }
      },
      "cell_type": "code",
      "source": [
        "df['spell_error']=df['text'].map(lambda x: spell_check_article(x)[0])\n",
        "df[['text','label','grammar_error', 'spell_error']][:25]"
      ],
      "execution_count": 0,
      "outputs": [
        {
          "output_type": "execute_result",
          "data": {
            "text/html": [
              "<div>\n",
              "<style scoped>\n",
              "    .dataframe tbody tr th:only-of-type {\n",
              "        vertical-align: middle;\n",
              "    }\n",
              "\n",
              "    .dataframe tbody tr th {\n",
              "        vertical-align: top;\n",
              "    }\n",
              "\n",
              "    .dataframe thead th {\n",
              "        text-align: right;\n",
              "    }\n",
              "</style>\n",
              "<table border=\"1\" class=\"dataframe\">\n",
              "  <thead>\n",
              "    <tr style=\"text-align: right;\">\n",
              "      <th></th>\n",
              "      <th>text</th>\n",
              "      <th>label</th>\n",
              "      <th>grammar_error</th>\n",
              "      <th>spell_error</th>\n",
              "    </tr>\n",
              "  </thead>\n",
              "  <tbody>\n",
              "    <tr>\n",
              "      <th>0</th>\n",
              "      <td>Says the Annies List political group supports ...</td>\n",
              "      <td>false</td>\n",
              "      <td>1</td>\n",
              "      <td>1</td>\n",
              "    </tr>\n",
              "    <tr>\n",
              "      <th>1</th>\n",
              "      <td>When did the decline of coal start? It started...</td>\n",
              "      <td>half-true</td>\n",
              "      <td>1</td>\n",
              "      <td>3</td>\n",
              "    </tr>\n",
              "    <tr>\n",
              "      <th>2</th>\n",
              "      <td>Hillary Clinton agrees with John McCain \"by vo...</td>\n",
              "      <td>mostly-true</td>\n",
              "      <td>2</td>\n",
              "      <td>2</td>\n",
              "    </tr>\n",
              "    <tr>\n",
              "      <th>3</th>\n",
              "      <td>Health care reform legislation is likely to ma...</td>\n",
              "      <td>false</td>\n",
              "      <td>0</td>\n",
              "      <td>0</td>\n",
              "    </tr>\n",
              "    <tr>\n",
              "      <th>4</th>\n",
              "      <td>The economic turnaround started at the end of ...</td>\n",
              "      <td>half-true</td>\n",
              "      <td>0</td>\n",
              "      <td>0</td>\n",
              "    </tr>\n",
              "    <tr>\n",
              "      <th>5</th>\n",
              "      <td>The Chicago Bears have had more starting quart...</td>\n",
              "      <td>true</td>\n",
              "      <td>0</td>\n",
              "      <td>3</td>\n",
              "    </tr>\n",
              "    <tr>\n",
              "      <th>6</th>\n",
              "      <td>Jim Dunnam has not lived in the district he re...</td>\n",
              "      <td>barely-true</td>\n",
              "      <td>1</td>\n",
              "      <td>1</td>\n",
              "    </tr>\n",
              "    <tr>\n",
              "      <th>7</th>\n",
              "      <td>I'm the only person on this stage who has work...</td>\n",
              "      <td>half-true</td>\n",
              "      <td>1</td>\n",
              "      <td>4</td>\n",
              "    </tr>\n",
              "    <tr>\n",
              "      <th>8</th>\n",
              "      <td>However, it took $19.5 million in Oregon Lotte...</td>\n",
              "      <td>half-true</td>\n",
              "      <td>0</td>\n",
              "      <td>2</td>\n",
              "    </tr>\n",
              "    <tr>\n",
              "      <th>9</th>\n",
              "      <td>Says GOP primary opponents Glenn Grothman and ...</td>\n",
              "      <td>mostly-true</td>\n",
              "      <td>2</td>\n",
              "      <td>3</td>\n",
              "    </tr>\n",
              "    <tr>\n",
              "      <th>10</th>\n",
              "      <td>For the first time in history, the share of th...</td>\n",
              "      <td>mostly-true</td>\n",
              "      <td>0</td>\n",
              "      <td>1</td>\n",
              "    </tr>\n",
              "    <tr>\n",
              "      <th>11</th>\n",
              "      <td>Since 2000, nearly 12 million Americans have s...</td>\n",
              "      <td>half-true</td>\n",
              "      <td>0</td>\n",
              "      <td>1</td>\n",
              "    </tr>\n",
              "    <tr>\n",
              "      <th>12</th>\n",
              "      <td>When Mitt Romney was governor of Massachusetts...</td>\n",
              "      <td>false</td>\n",
              "      <td>1</td>\n",
              "      <td>3</td>\n",
              "    </tr>\n",
              "    <tr>\n",
              "      <th>13</th>\n",
              "      <td>The economy bled $24 billion due to the govern...</td>\n",
              "      <td>mostly-true</td>\n",
              "      <td>0</td>\n",
              "      <td>1</td>\n",
              "    </tr>\n",
              "    <tr>\n",
              "      <th>14</th>\n",
              "      <td>Most of the (Affordable Care Act) has already ...</td>\n",
              "      <td>barely-true</td>\n",
              "      <td>0</td>\n",
              "      <td>2</td>\n",
              "    </tr>\n",
              "    <tr>\n",
              "      <th>15</th>\n",
              "      <td>In this last election in November, ... 63 perc...</td>\n",
              "      <td>half-true</td>\n",
              "      <td>0</td>\n",
              "      <td>5</td>\n",
              "    </tr>\n",
              "    <tr>\n",
              "      <th>16</th>\n",
              "      <td>McCain opposed a requirement that the governme...</td>\n",
              "      <td>true</td>\n",
              "      <td>0</td>\n",
              "      <td>2</td>\n",
              "    </tr>\n",
              "    <tr>\n",
              "      <th>17</th>\n",
              "      <td>U.S. Rep. Ron Kind, D-Wis., and his fellow Dem...</td>\n",
              "      <td>barely-true</td>\n",
              "      <td>0</td>\n",
              "      <td>2</td>\n",
              "    </tr>\n",
              "    <tr>\n",
              "      <th>18</th>\n",
              "      <td>Water rates in Manila, Philippines, were raise...</td>\n",
              "      <td>half-true</td>\n",
              "      <td>0</td>\n",
              "      <td>2</td>\n",
              "    </tr>\n",
              "    <tr>\n",
              "      <th>19</th>\n",
              "      <td>Almost 100,000 people left Puerto Rico last year.</td>\n",
              "      <td>mostly-true</td>\n",
              "      <td>1</td>\n",
              "      <td>0</td>\n",
              "    </tr>\n",
              "    <tr>\n",
              "      <th>20</th>\n",
              "      <td>Women and men both are making less when you ad...</td>\n",
              "      <td>false</td>\n",
              "      <td>1</td>\n",
              "      <td>1</td>\n",
              "    </tr>\n",
              "    <tr>\n",
              "      <th>21</th>\n",
              "      <td>The United States has the highest corporate ta...</td>\n",
              "      <td>mostly-true</td>\n",
              "      <td>0</td>\n",
              "      <td>0</td>\n",
              "    </tr>\n",
              "    <tr>\n",
              "      <th>22</th>\n",
              "      <td>We just had the best year for the auto industr...</td>\n",
              "      <td>mostly-true</td>\n",
              "      <td>0</td>\n",
              "      <td>0</td>\n",
              "    </tr>\n",
              "    <tr>\n",
              "      <th>23</th>\n",
              "      <td>Says Scott Walker favors cutting up to 350,000...</td>\n",
              "      <td>half-true</td>\n",
              "      <td>0</td>\n",
              "      <td>0</td>\n",
              "    </tr>\n",
              "    <tr>\n",
              "      <th>24</th>\n",
              "      <td>Says Mitt Romney wants to get rid of Planned P...</td>\n",
              "      <td>barely-true</td>\n",
              "      <td>0</td>\n",
              "      <td>0</td>\n",
              "    </tr>\n",
              "  </tbody>\n",
              "</table>\n",
              "</div>"
            ],
            "text/plain": [
              "                                                 text        label  \\\n",
              "0   Says the Annies List political group supports ...        false   \n",
              "1   When did the decline of coal start? It started...    half-true   \n",
              "2   Hillary Clinton agrees with John McCain \"by vo...  mostly-true   \n",
              "3   Health care reform legislation is likely to ma...        false   \n",
              "4   The economic turnaround started at the end of ...    half-true   \n",
              "5   The Chicago Bears have had more starting quart...         true   \n",
              "6   Jim Dunnam has not lived in the district he re...  barely-true   \n",
              "7   I'm the only person on this stage who has work...    half-true   \n",
              "8   However, it took $19.5 million in Oregon Lotte...    half-true   \n",
              "9   Says GOP primary opponents Glenn Grothman and ...  mostly-true   \n",
              "10  For the first time in history, the share of th...  mostly-true   \n",
              "11  Since 2000, nearly 12 million Americans have s...    half-true   \n",
              "12  When Mitt Romney was governor of Massachusetts...        false   \n",
              "13  The economy bled $24 billion due to the govern...  mostly-true   \n",
              "14  Most of the (Affordable Care Act) has already ...  barely-true   \n",
              "15  In this last election in November, ... 63 perc...    half-true   \n",
              "16  McCain opposed a requirement that the governme...         true   \n",
              "17  U.S. Rep. Ron Kind, D-Wis., and his fellow Dem...  barely-true   \n",
              "18  Water rates in Manila, Philippines, were raise...    half-true   \n",
              "19  Almost 100,000 people left Puerto Rico last year.  mostly-true   \n",
              "20  Women and men both are making less when you ad...        false   \n",
              "21  The United States has the highest corporate ta...  mostly-true   \n",
              "22  We just had the best year for the auto industr...  mostly-true   \n",
              "23  Says Scott Walker favors cutting up to 350,000...    half-true   \n",
              "24  Says Mitt Romney wants to get rid of Planned P...  barely-true   \n",
              "\n",
              "    grammar_error  spell_error  \n",
              "0               1            1  \n",
              "1               1            3  \n",
              "2               2            2  \n",
              "3               0            0  \n",
              "4               0            0  \n",
              "5               0            3  \n",
              "6               1            1  \n",
              "7               1            4  \n",
              "8               0            2  \n",
              "9               2            3  \n",
              "10              0            1  \n",
              "11              0            1  \n",
              "12              1            3  \n",
              "13              0            1  \n",
              "14              0            2  \n",
              "15              0            5  \n",
              "16              0            2  \n",
              "17              0            2  \n",
              "18              0            2  \n",
              "19              1            0  \n",
              "20              1            1  \n",
              "21              0            0  \n",
              "22              0            0  \n",
              "23              0            0  \n",
              "24              0            0  "
            ]
          },
          "metadata": {
            "tags": []
          },
          "execution_count": 13
        }
      ]
    },
    {
      "metadata": {
        "id": "xuvB_UpudXSG",
        "colab_type": "code",
        "outputId": "63cf0287-ff22-45d9-87a1-4006d59dfff2",
        "colab": {
          "base_uri": "https://localhost:8080/",
          "height": 68
        }
      },
      "cell_type": "code",
      "source": [
        "df.context = pd.Categorical(df.context)\n",
        "df['context_coded'] = df.context.cat.codes\n",
        "\n",
        "df.fake = pd.Categorical(df.fake)\n",
        "print(pd.Categorical(df.fake))\n",
        "df['fake_coded'] = df.fake.cat.codes"
      ],
      "execution_count": 0,
      "outputs": [
        {
          "output_type": "stream",
          "text": [
            "[false, true, true, false, true, ..., true, true, true, false, false]\n",
            "Length: 10240\n",
            "Categories (2, object): [false, true]\n"
          ],
          "name": "stdout"
        }
      ]
    },
    {
      "metadata": {
        "id": "_6EekVPzPkei",
        "colab_type": "text"
      },
      "cell_type": "markdown",
      "source": [
        "Attempt to do logistic regression and random forest regression on the two newly created fields. "
      ]
    },
    {
      "metadata": {
        "id": "nXnV6_cBZEGf",
        "colab_type": "code",
        "outputId": "178fbec1-efd1-42ff-8270-538d62eff9eb",
        "colab": {
          "base_uri": "https://localhost:8080/",
          "height": 204
        }
      },
      "cell_type": "code",
      "source": [
        "features = ['grammar_error', 'spell_error']\n",
        "X = df[features]\n",
        "Y = df[['fake_coded']]\n",
        "X = X.fillna(0);\n",
        "Y = Y.fillna(0);\n",
        "df['fake_coded'][:10]"
      ],
      "execution_count": 0,
      "outputs": [
        {
          "output_type": "execute_result",
          "data": {
            "text/plain": [
              "0    0\n",
              "1    1\n",
              "2    1\n",
              "3    0\n",
              "4    1\n",
              "5    1\n",
              "6    0\n",
              "7    1\n",
              "8    1\n",
              "9    1\n",
              "Name: fake_coded, dtype: int8"
            ]
          },
          "metadata": {
            "tags": []
          },
          "execution_count": 15
        }
      ]
    },
    {
      "metadata": {
        "id": "rTwhCnrKZcNb",
        "colab_type": "code",
        "outputId": "19d3db88-fe5d-44df-935c-f63e3ea6df6a",
        "colab": {
          "base_uri": "https://localhost:8080/",
          "height": 105
        }
      },
      "cell_type": "code",
      "source": [
        "X_train, X_test, y_train, y_test = train_test_split(X, Y, test_size=0.4, random_state=0)\n",
        "lm = linear_model.LogisticRegression()\n",
        "model = lm.fit(X_train, y_train)\n",
        "predictions = lm.predict(X_test)\n"
      ],
      "execution_count": 0,
      "outputs": [
        {
          "output_type": "stream",
          "text": [
            "/usr/local/lib/python3.6/dist-packages/sklearn/linear_model/logistic.py:433: FutureWarning: Default solver will be changed to 'lbfgs' in 0.22. Specify a solver to silence this warning.\n",
            "  FutureWarning)\n",
            "/usr/local/lib/python3.6/dist-packages/sklearn/utils/validation.py:761: DataConversionWarning: A column-vector y was passed when a 1d array was expected. Please change the shape of y to (n_samples, ), for example using ravel().\n",
            "  y = column_or_1d(y, warn=True)\n"
          ],
          "name": "stderr"
        }
      ]
    },
    {
      "metadata": {
        "id": "ocm42yUgZebr",
        "colab_type": "code",
        "outputId": "469c3704-4dcd-4e9e-b2f2-c43bd4a22746",
        "colab": {
          "base_uri": "https://localhost:8080/",
          "height": 102
        }
      },
      "cell_type": "code",
      "source": [
        "print(model)\n",
        "print (\"Score:\", model.score(X_test, y_test))"
      ],
      "execution_count": 0,
      "outputs": [
        {
          "output_type": "stream",
          "text": [
            "LogisticRegression(C=1.0, class_weight=None, dual=False, fit_intercept=True,\n",
            "          intercept_scaling=1, max_iter=100, multi_class='warn',\n",
            "          n_jobs=None, penalty='l2', random_state=None, solver='warn',\n",
            "          tol=0.0001, verbose=0, warm_start=False)\n",
            "Score: 0.5634765625\n"
          ],
          "name": "stdout"
        }
      ]
    },
    {
      "metadata": {
        "id": "oh3n3q8IZgYS",
        "colab_type": "code",
        "outputId": "813ae312-a874-43f5-b338-8ba3361e1b50",
        "colab": {
          "base_uri": "https://localhost:8080/",
          "height": 51
        }
      },
      "cell_type": "code",
      "source": [
        "for i in range(0,len(model.coef_[0])):\n",
        "    print (features[i], model.coef_[0][i])"
      ],
      "execution_count": 0,
      "outputs": [
        {
          "output_type": "stream",
          "text": [
            "grammar_error -0.08423055512576677\n",
            "spell_error 0.04738859208969826\n"
          ],
          "name": "stdout"
        }
      ]
    },
    {
      "metadata": {
        "id": "kXNFnilda6CU",
        "colab_type": "code",
        "outputId": "99749ab7-32d7-4d69-da36-c224fd9858c3",
        "colab": {
          "base_uri": "https://localhost:8080/",
          "height": 190
        }
      },
      "cell_type": "code",
      "source": [
        "from sklearn.ensemble import RandomForestClassifier\n",
        "from sklearn.metrics import classification_report\n",
        "RF = RandomForestClassifier(n_estimators=100)\n",
        "RF.fit(X_train,y_train)"
      ],
      "execution_count": 0,
      "outputs": [
        {
          "output_type": "stream",
          "text": [
            "/usr/local/lib/python3.6/dist-packages/ipykernel_launcher.py:4: DataConversionWarning: A column-vector y was passed when a 1d array was expected. Please change the shape of y to (n_samples,), for example using ravel().\n",
            "  after removing the cwd from sys.path.\n"
          ],
          "name": "stderr"
        },
        {
          "output_type": "execute_result",
          "data": {
            "text/plain": [
              "RandomForestClassifier(bootstrap=True, class_weight=None, criterion='gini',\n",
              "            max_depth=None, max_features='auto', max_leaf_nodes=None,\n",
              "            min_impurity_decrease=0.0, min_impurity_split=None,\n",
              "            min_samples_leaf=1, min_samples_split=2,\n",
              "            min_weight_fraction_leaf=0.0, n_estimators=100, n_jobs=None,\n",
              "            oob_score=False, random_state=None, verbose=0,\n",
              "            warm_start=False)"
            ]
          },
          "metadata": {
            "tags": []
          },
          "execution_count": 19
        }
      ]
    },
    {
      "metadata": {
        "id": "496Kmkc7qeKa",
        "colab_type": "code",
        "outputId": "12ce56dc-06e6-49db-d42d-c8f97c561de7",
        "colab": {
          "base_uri": "https://localhost:8080/",
          "height": 671
        }
      },
      "cell_type": "code",
      "source": [
        "import matplotlib.pyplot as plt\n",
        "import seaborn as sns\n",
        "import pandas as pd\n",
        "feature_imp = pd.Series(RF.feature_importances_,index=X_train.columns).sort_values(ascending=False)\n",
        "index=X_train.columns\n",
        "%matplotlib inline\n",
        "fig, ax = plt.subplots(figsize=(10,10))\n",
        "sns.barplot(x=feature_imp, y=feature_imp.index)\n",
        "# Add labels to your graph\n",
        "plt.xlabel('Feature Importance Score')\n",
        "plt.ylabel('Feature')\n",
        "plt.title(\"Important Features\")\n",
        "plt.legend()\n",
        "plt.show()"
      ],
      "execution_count": 0,
      "outputs": [
        {
          "output_type": "stream",
          "text": [
            "/usr/local/lib/python3.6/dist-packages/seaborn/categorical.py:1428: FutureWarning: remove_na is deprecated and is a private function. Do not use.\n",
            "  stat_data = remove_na(group_data)\n",
            "No handles with labels found to put in legend.\n"
          ],
          "name": "stderr"
        },
        {
          "output_type": "display_data",
          "data": {
            "image/png": "[encoded data removed]",
            "text/plain": [
              "<matplotlib.figure.Figure at 0x7fa56bf84dd8>"
            ]
          },
          "metadata": {
            "tags": []
          }
        }
      ]
    },
    {
      "metadata": {
        "id": "_N5frRvDQjZk",
        "colab_type": "text"
      },
      "cell_type": "markdown",
      "source": [
        ""
      ]
    },
    {
      "metadata": {
        "id": "R9l5l0o_q_Nh",
        "colab_type": "code",
        "outputId": "f9b6089c-0fb4-4c7d-bece-9f1f33d2032e",
        "colab": {
          "base_uri": "https://localhost:8080/",
          "height": 34
        }
      },
      "cell_type": "code",
      "source": [
        "!pip install tqdm\n",
        "import pandas as pd\n",
        "import numpy as np\n",
        "import matplotlib.pyplot as plt\n",
        "%matplotlib inline\n",
        "import seaborn as sns\n",
        "from tqdm import tqdm\n",
        "from sklearn.feature_extraction.text import CountVectorizer\n",
        "from sklearn.feature_extraction.text import TfidfTransformer\n",
        "from sklearn.feature_extraction.text import TfidfVectorizer\n",
        "from sklearn.pipeline import Pipeline\n",
        "import nltk\n",
        "import nltk.corpus \n",
        "from nltk.tokenize import word_tokenize\n",
        "import csv"
      ],
      "execution_count": 0,
      "outputs": [
        {
          "output_type": "stream",
          "text": [
            "Requirement already satisfied: tqdm in /usr/local/lib/python3.6/dist-packages (4.28.1)\n"
          ],
          "name": "stdout"
        }
      ]
    },
    {
      "metadata": {
        "id": "atiYe0G7vTek",
        "colab_type": "code",
        "colab": {}
      },
      "cell_type": "code",
      "source": [
        "my_dictionary = \"islam christian christianity God Allah Christ isreal arab religion bible quoran synagogue church mosque temple genesis revelations mathew john mark luke moses david solomon anti-christ book prayer heaven hell paradise sunni shia\" \n"
      ],
      "execution_count": 0,
      "outputs": []
    },
    {
      "metadata": {
        "id": "CiyH7OcGxh08",
        "colab_type": "code",
        "outputId": "209d3cf4-3882-4503-9ba9-dff308f42134",
        "colab": {
          "base_uri": "https://localhost:8080/",
          "height": 85
        }
      },
      "cell_type": "code",
      "source": [
        "import re\n",
        "import numpy as np\n",
        "import matplotlib.pyplot as plt\n",
        "import pandas as pd\n",
        "import nltk\n",
        "nltk.download('stopwords')\n",
        "from nltk.corpus import stopwords \n",
        "from nltk.stem.porter import PorterStemmer\n",
        "from nltk.tokenize import word_tokenize \n",
        "nltk.download('punkt')\n",
        "\n",
        "def TextCleansing(txt):\n",
        "    rem = re.sub('[^a-zA-Z]', ' ', txt)\n",
        "    rem = rem.lower()\n",
        "    rem = rem.split()\n",
        "    ps = PorterStemmer()\n",
        "    rem = [ps.stem(word) for word in rem if not word in set(stopwords.words('english'))]\n",
        "    rem = ' '.join(rem)\n",
        "    return rem"
      ],
      "execution_count": 0,
      "outputs": [
        {
          "output_type": "stream",
          "text": [
            "[nltk_data] Downloading package stopwords to /root/nltk_data...\n",
            "[nltk_data]   Unzipping corpora/stopwords.zip.\n",
            "[nltk_data] Downloading package punkt to /root/nltk_data...\n",
            "[nltk_data]   Package punkt is already up-to-date!\n"
          ],
          "name": "stdout"
        }
      ]
    },
    {
      "metadata": {
        "id": "D5EdYSn4xjoH",
        "colab_type": "code",
        "colab": {}
      },
      "cell_type": "code",
      "source": [
        "stop_words=set(stopwords.words('english'))\n"
      ],
      "execution_count": 0,
      "outputs": []
    },
    {
      "metadata": {
        "id": "sEPDPUfsxmD9",
        "colab_type": "code",
        "outputId": "71c3d6a2-6b48-47be-ea6d-81e5fec948fc",
        "colab": {
          "base_uri": "https://localhost:8080/",
          "height": 54
        }
      },
      "cell_type": "code",
      "source": [
        "TextCleansing(my_dictionary)\n"
      ],
      "execution_count": 0,
      "outputs": [
        {
          "output_type": "execute_result",
          "data": {
            "text/plain": [
              "'islam christian christian god allah christ isreal arab religion bibl quoran synagogu church mosqu templ genesi revel mathew john mark luke mose david solomon anti christ book prayer heaven hell paradis sunni shia'"
            ]
          },
          "metadata": {
            "tags": []
          },
          "execution_count": 25
        }
      ]
    },
    {
      "metadata": {
        "id": "zxXvZAU-xnxk",
        "colab_type": "code",
        "colab": {}
      },
      "cell_type": "code",
      "source": [
        "def cleaning(raw_news):\n",
        "    import nltk    \n",
        "    news = re.sub(\"[^a-zA-Z]\", \" \", raw_news)    \n",
        "    news =  news.lower()     \n",
        "    news_words = nltk.word_tokenize( news)        \n",
        "    stops = set(nltk.corpus.stopwords.words(\"english\"))       \n",
        "    words = [w for w in  news_words  if not w in stops]        \n",
        "    stems = [nltk.stem.SnowballStemmer('english').stem(w) for w in words]     \n",
        "    return \" \".join(stems)\n",
        "  \n",
        "import re\n",
        "training['text'] = training[\"text\"].apply(cleaning) \n",
        "testing['text'] = testing[\"text\"].apply(cleaning)"
      ],
      "execution_count": 0,
      "outputs": []
    },
    {
      "metadata": {
        "id": "nVgj0BUkxxWR",
        "colab_type": "code",
        "colab": {}
      },
      "cell_type": "code",
      "source": [
        "corpus = []\n",
        "import gensim\n",
        "from nltk.tokenize import word_tokenize\n",
        "\n",
        "for text in training['text']:\n",
        "    corpus.append(text)\n",
        "corpus.append(my_dictionary)\n"
      ],
      "execution_count": 0,
      "outputs": []
    },
    {
      "metadata": {
        "id": "vGmj1ar6yIPt",
        "colab_type": "code",
        "outputId": "e9bf0e8c-3d5d-43ab-94f2-b0fc9760aa39",
        "colab": {
          "base_uri": "https://localhost:8080/",
          "height": 136
        }
      },
      "cell_type": "code",
      "source": [
        "from sklearn.feature_extraction.text import TfidfVectorizer\n",
        "vectorizer = TfidfVectorizer()\n",
        "vectorizer"
      ],
      "execution_count": 0,
      "outputs": [
        {
          "output_type": "execute_result",
          "data": {
            "text/plain": [
              "TfidfVectorizer(analyzer='word', binary=False, decode_error='strict',\n",
              "        dtype=<class 'numpy.float64'>, encoding='utf-8', input='content',\n",
              "        lowercase=True, max_df=1.0, max_features=None, min_df=1,\n",
              "        ngram_range=(1, 1), norm='l2', preprocessor=None, smooth_idf=True,\n",
              "        stop_words=None, strip_accents=None, sublinear_tf=False,\n",
              "        token_pattern='(?u)\\\\b\\\\w\\\\w+\\\\b', tokenizer=None, use_idf=True,\n",
              "        vocabulary=None)"
            ]
          },
          "metadata": {
            "tags": []
          },
          "execution_count": 28
        }
      ]
    },
    {
      "metadata": {
        "id": "QycZaWNMyfP4",
        "colab_type": "code",
        "colab": {}
      },
      "cell_type": "code",
      "source": [
        "X = vectorizer.fit_transform(corpus)"
      ],
      "execution_count": 0,
      "outputs": []
    },
    {
      "metadata": {
        "id": "8Qsccv8Cyi51",
        "colab_type": "code",
        "outputId": "fd0bc546-40ca-4ce7-87a0-c88b71f2c73e",
        "colab": {
          "base_uri": "https://localhost:8080/",
          "height": 34
        }
      },
      "cell_type": "code",
      "source": [
        "from scipy import spatial\n",
        "sims = []\n",
        "for i in range(10240):\n",
        "    cos_statement1 = 1 - spatial.distance.cosine(X[i].toarray(), X[10240].toarray())\n",
        "    sims.append(cos_statement1)\n",
        "\n",
        "print(len(df), len(sims))\n",
        "df['religion'] = sims"
      ],
      "execution_count": 0,
      "outputs": [
        {
          "output_type": "stream",
          "text": [
            "10240 10240\n"
          ],
          "name": "stdout"
        }
      ]
    },
    {
      "metadata": {
        "id": "SUzFNkH-zVvV",
        "colab_type": "code",
        "colab": {}
      },
      "cell_type": "code",
      "source": [
        "features = ['grammar_error', 'spell_error', 'religion']\n",
        "X = df[features]\n",
        "Y = df[['fake_coded']]\n",
        "X = X.fillna(0);\n",
        "Y = Y.fillna(0);\n"
      ],
      "execution_count": 0,
      "outputs": []
    },
    {
      "metadata": {
        "id": "eWG40VTR09Su",
        "colab_type": "code",
        "outputId": "244aea2f-9a4c-4890-c00a-8c6fc85c1420",
        "colab": {
          "base_uri": "https://localhost:8080/",
          "height": 88
        }
      },
      "cell_type": "code",
      "source": [
        "X_train, X_test, y_train, y_test = train_test_split(X, Y, test_size=0.4, random_state=0)\n",
        "RF = RandomForestClassifier(n_estimators=100)\n",
        "RF.fit(X_train,y_train)\n",
        "print (\"Score:\", RF.score(X_test, y_test))"
      ],
      "execution_count": 0,
      "outputs": [
        {
          "output_type": "stream",
          "text": [
            "/usr/local/lib/python3.6/dist-packages/ipykernel_launcher.py:3: DataConversionWarning: A column-vector y was passed when a 1d array was expected. Please change the shape of y to (n_samples,), for example using ravel().\n",
            "  This is separate from the ipykernel package so we can avoid doing imports until\n"
          ],
          "name": "stderr"
        },
        {
          "output_type": "stream",
          "text": [
            "Score: 0.558349609375\n"
          ],
          "name": "stdout"
        }
      ]
    },
    {
      "metadata": {
        "id": "7xz6kK651Ehk",
        "colab_type": "code",
        "outputId": "e78162f0-907f-42e4-af67-54a5d503c292",
        "colab": {
          "base_uri": "https://localhost:8080/",
          "height": 739
        }
      },
      "cell_type": "code",
      "source": [
        "feature_imp = pd.Series(RF.feature_importances_,index=X_train.columns).sort_values(ascending=False)\n",
        "index=X_train.columns\n",
        "%matplotlib inline\n",
        "fig, ax = plt.subplots(figsize=(10,10))\n",
        "sns.barplot(x=feature_imp, y=feature_imp.index)\n",
        "# Add labels to your graph\n",
        "plt.xlabel('Feature Importance Score')\n",
        "plt.ylabel('Feature')\n",
        "plt.title(\"Important Features\")\n",
        "plt.legend()\n",
        "plt.show()\n",
        "print(feature_imp)"
      ],
      "execution_count": 0,
      "outputs": [
        {
          "output_type": "stream",
          "text": [
            "/usr/local/lib/python3.6/dist-packages/seaborn/categorical.py:1428: FutureWarning: remove_na is deprecated and is a private function. Do not use.\n",
            "  stat_data = remove_na(group_data)\n",
            "No handles with labels found to put in legend.\n"
          ],
          "name": "stderr"
        },
        {
          "output_type": "display_data",
          "data": {
            "image/png": "[encoded data removed]",
            "text/plain": [
              "<matplotlib.figure.Figure at 0x7fa53d34d6a0>"
            ]
          },
          "metadata": {
            "tags": []
          }
        },
        {
          "output_type": "stream",
          "text": [
            "religion         0.549071\n",
            "spell_error      0.253349\n",
            "grammar_error    0.197580\n",
            "dtype: float64\n"
          ],
          "name": "stdout"
        }
      ]
    },
    {
      "metadata": {
        "id": "-RPYP7JPQ3MM",
        "colab_type": "text"
      },
      "cell_type": "markdown",
      "source": [
        "Importing entire notebooks is hard so we import the features via csv files and create dataframes out of them."
      ]
    },
    {
      "metadata": {
        "id": "4ITB7vBt3S7L",
        "colab_type": "code",
        "colab": {}
      },
      "cell_type": "code",
      "source": [
        "l_df = pd.read_csv('AlternusVera/datasets/train_lexical.csv')\n",
        "h_df = pd.read_csv('AlternusVera/datasets/Headlines_Stance_Data_final.csv')\n",
        "cor_df = pd.read_csv('AlternusVera/datasets/title_correlation.csv')\n",
        "cont_df = pd.read_csv('AlternusVera/datasets/controversy.csv')\n",
        "sens_df = pd.read_csv('AlternusVera/datasets/sensation.csv')\n",
        "hs_df = pd.read_csv('AlternusVera/datasets/hate_speech_factor.csv')\n",
        "t_df = pd.read_csv('AlternusVera/datasets/trolling_factor_csv_file_with_header.csv')\n",
        "pa_df = pd.read_csv('AlternusVera/datasets/Party_Affliation_Factors_for_predicting_fake_news.csv')"
      ],
      "execution_count": 0,
      "outputs": []
    },
    {
      "metadata": {
        "id": "h8tyDc6y3Sw5",
        "colab_type": "code",
        "outputId": "7830665e-7f45-4026-9b6d-08cba5ff981f",
        "colab": {
          "base_uri": "https://localhost:8080/",
          "height": 204
        }
      },
      "cell_type": "code",
      "source": [
        "sens_df.head()"
      ],
      "execution_count": 0,
      "outputs": [
        {
          "output_type": "execute_result",
          "data": {
            "text/html": [
              "<div>\n",
              "<style scoped>\n",
              "    .dataframe tbody tr th:only-of-type {\n",
              "        vertical-align: middle;\n",
              "    }\n",
              "\n",
              "    .dataframe tbody tr th {\n",
              "        vertical-align: top;\n",
              "    }\n",
              "\n",
              "    .dataframe thead th {\n",
              "        text-align: right;\n",
              "    }\n",
              "</style>\n",
              "<table border=\"1\" class=\"dataframe\">\n",
              "  <thead>\n",
              "    <tr style=\"text-align: right;\">\n",
              "      <th></th>\n",
              "      <th>label</th>\n",
              "      <th>statement</th>\n",
              "      <th>length</th>\n",
              "      <th>sensationalism</th>\n",
              "    </tr>\n",
              "  </thead>\n",
              "  <tbody>\n",
              "    <tr>\n",
              "      <th>0</th>\n",
              "      <td>half-true</td>\n",
              "      <td>declin coal start start natur gas took start b...</td>\n",
              "      <td>80</td>\n",
              "      <td>0.000000</td>\n",
              "    </tr>\n",
              "    <tr>\n",
              "      <th>1</th>\n",
              "      <td>mostly-true</td>\n",
              "      <td>hillari clinton agr john mccain vote give geor...</td>\n",
              "      <td>72</td>\n",
              "      <td>0.000000</td>\n",
              "    </tr>\n",
              "    <tr>\n",
              "      <th>2</th>\n",
              "      <td>false</td>\n",
              "      <td>health care reform legisl like mandat free sex...</td>\n",
              "      <td>60</td>\n",
              "      <td>0.000000</td>\n",
              "    </tr>\n",
              "    <tr>\n",
              "      <th>3</th>\n",
              "      <td>half-true</td>\n",
              "      <td>econom turnaround start end term</td>\n",
              "      <td>32</td>\n",
              "      <td>0.000000</td>\n",
              "    </tr>\n",
              "    <tr>\n",
              "      <th>4</th>\n",
              "      <td>true</td>\n",
              "      <td>chicago bear start quarterback last year total...</td>\n",
              "      <td>90</td>\n",
              "      <td>0.023431</td>\n",
              "    </tr>\n",
              "  </tbody>\n",
              "</table>\n",
              "</div>"
            ],
            "text/plain": [
              "         label                                          statement  length  \\\n",
              "0    half-true  declin coal start start natur gas took start b...      80   \n",
              "1  mostly-true  hillari clinton agr john mccain vote give geor...      72   \n",
              "2        false  health care reform legisl like mandat free sex...      60   \n",
              "3    half-true                   econom turnaround start end term      32   \n",
              "4         true  chicago bear start quarterback last year total...      90   \n",
              "\n",
              "   sensationalism  \n",
              "0        0.000000  \n",
              "1        0.000000  \n",
              "2        0.000000  \n",
              "3        0.000000  \n",
              "4        0.023431  "
            ]
          },
          "metadata": {
            "tags": []
          },
          "execution_count": 35
        }
      ]
    },
    {
      "metadata": {
        "id": "s-J16BxEAwm_",
        "colab_type": "code",
        "outputId": "ba53f8c6-73f1-46cd-ed80-325c4109cd05",
        "colab": {
          "base_uri": "https://localhost:8080/",
          "height": 680
        }
      },
      "cell_type": "code",
      "source": [
        "print(hs_df.head())\n",
        "print(t_df.head())\n",
        "print(pa_df.head())"
      ],
      "execution_count": 0,
      "outputs": [
        {
          "output_type": "stream",
          "text": [
            "   Unnamed: 0  hate_speech_confidence  offsensive_speech_confidence  \\\n",
            "0           0            1.679667e-08                      0.258597   \n",
            "1           1            6.592088e-10                      0.619811   \n",
            "2           2            4.650032e-06                      0.335105   \n",
            "3           3            3.113943e-09                      0.661825   \n",
            "4           4            1.312405e-04                      0.054103   \n",
            "\n",
            "   clean_speech_confidence  copy_of_fake_label_from_liar_liar  \n",
            "0                 0.741403                                  0  \n",
            "1                 0.380189                                  1  \n",
            "2                 0.664890                                  1  \n",
            "3                 0.338175                                  0  \n",
            "4                 0.945766                                  1  \n",
            "   Unnamed: 0     troll label_from_liar_liar_copy\n",
            "0           0  0.631423                     false\n",
            "1           1  0.664333                 half-true\n",
            "2           2  0.631605               mostly-true\n",
            "3           3  0.646070                     false\n",
            "4           4  0.646426                 half-true\n",
            "   Unnamed: 0  confidence_republican  confidence_democrat  \\\n",
            "0           0               0.932888             0.050111   \n",
            "1           1               0.026435             0.947220   \n",
            "2           2               0.005547             0.977089   \n",
            "3           3               0.374769             0.335601   \n",
            "4           4               0.269246             0.610439   \n",
            "\n",
            "   confidence_no_affliation  confidence_other ground_truth predicted_party  \\\n",
            "0                  0.008515          0.008485   republican      republican   \n",
            "1                  0.012101          0.014244     democrat        democrat   \n",
            "2                  0.008411          0.008953     democrat        democrat   \n",
            "3                  0.204224          0.085406         none      republican   \n",
            "4                  0.066161          0.054153     democrat        democrat   \n",
            "\n",
            "  fake_news_label  label  \n",
            "0           false      0  \n",
            "1       half-true      1  \n",
            "2     mostly-true      1  \n",
            "3           false      0  \n",
            "4       half-true      1  \n"
          ],
          "name": "stdout"
        }
      ]
    },
    {
      "metadata": {
        "id": "VxX6SvyYQ9c-",
        "colab_type": "text"
      },
      "cell_type": "markdown",
      "source": [
        "We add the features from all other team mates work into this data frame to create one that has all features. "
      ]
    },
    {
      "metadata": {
        "id": "IQ_Cchi_yLyo",
        "colab_type": "code",
        "colab": {}
      },
      "cell_type": "code",
      "source": [
        "df['hate_speech_confidence'] = hs_df['hate_speech_confidence']\n",
        "df['offsensive_speech_confidence'] = hs_df['offsensive_speech_confidence']\n",
        "df['clean_speech_confidence'] = hs_df['clean_speech_confidence']\n",
        "df['troll'] = t_df['troll']\n",
        "df['lexical_factor_vector_score'] = l_df['lexical_factor_vector_score']\n",
        "df['compound'] = l_df['lexical_factor_vector_score']\n",
        "df['confidence_republican'] = pa_df['confidence_republican']\n",
        "df['confidence_democrat'] = pa_df['confidence_democrat']\n",
        "df['confidence_no_affliation'] = pa_df['confidence_no_affliation']\n",
        "df['confidence_other'] = pa_df['confidence_other']\n",
        "df['predicted_party'] = pa_df['predicted_party']\n",
        "df['headline_polarity'] = h_df['headline_polarity']\n",
        "df['compound_stance'] = h_df['compound']\n",
        "df['neg'] = h_df['neg']\n",
        "df['neu'] = h_df['neu']\n",
        "df['pos'] = h_df['pos']\n",
        "df['title-body Doc2Vec-cosine-similarity'] = cor_df['title-body Doc2Vec-cosine-similarity']\n",
        "df['body-title sentiment-correlation'] = cor_df['body-title sentiment-correlation']\n",
        "df['lda-bow title-body-correlation'] = cor_df['lda-bow title-body-correlation']\n",
        "df['lda-tfidf title-body-correlation'] = cor_df['lda-tfidf title-body-correlation']\n",
        "df['Controversial'] = cont_df['Controversial']\n",
        "df['sensationalism'] = sens_df['sensationalism']"
      ],
      "execution_count": 0,
      "outputs": []
    },
    {
      "metadata": {
        "id": "yOqCcNJfUOkS",
        "colab_type": "code",
        "colab": {}
      },
      "cell_type": "code",
      "source": [
        "tempdf = cor_df[['title-body Doc2Vec-cosine-similarity', 'body-title sentiment-correlation', 'lda-bow title-body-correlation', 'lda-tfidf title-body-correlation']]\n",
        "tempdf.to_csv('title_correlation.csv')\n",
        "files.download('title_correlation.csv')"
      ],
      "execution_count": 0,
      "outputs": []
    },
    {
      "metadata": {
        "id": "gcUvEQIRy6t5",
        "colab_type": "code",
        "outputId": "2709a43e-9fea-4d48-f445-2ee19028a007",
        "colab": {
          "base_uri": "https://localhost:8080/",
          "height": 678
        }
      },
      "cell_type": "code",
      "source": [
        "df.head()"
      ],
      "execution_count": 0,
      "outputs": [
        {
          "output_type": "execute_result",
          "data": {
            "text/html": [
              "<div>\n",
              "<style scoped>\n",
              "    .dataframe tbody tr th:only-of-type {\n",
              "        vertical-align: middle;\n",
              "    }\n",
              "\n",
              "    .dataframe tbody tr th {\n",
              "        vertical-align: top;\n",
              "    }\n",
              "\n",
              "    .dataframe thead th {\n",
              "        text-align: right;\n",
              "    }\n",
              "</style>\n",
              "<table border=\"1\" class=\"dataframe\">\n",
              "  <thead>\n",
              "    <tr style=\"text-align: right;\">\n",
              "      <th></th>\n",
              "      <th>id</th>\n",
              "      <th>label</th>\n",
              "      <th>text</th>\n",
              "      <th>subject</th>\n",
              "      <th>speaker</th>\n",
              "      <th>title</th>\n",
              "      <th>state</th>\n",
              "      <th>party</th>\n",
              "      <th>barely true</th>\n",
              "      <th>false</th>\n",
              "      <th>...</th>\n",
              "      <th>compound_stance</th>\n",
              "      <th>neg</th>\n",
              "      <th>neu</th>\n",
              "      <th>pos</th>\n",
              "      <th>title-body Doc2Vec-cosine-similarity</th>\n",
              "      <th>body-title sentiment-correlation</th>\n",
              "      <th>lda-bow title-body-correlation</th>\n",
              "      <th>lda-tfidf title-body-correlation</th>\n",
              "      <th>Controversial</th>\n",
              "      <th>sensationalism</th>\n",
              "    </tr>\n",
              "  </thead>\n",
              "  <tbody>\n",
              "    <tr>\n",
              "      <th>0</th>\n",
              "      <td>2635.json</td>\n",
              "      <td>false</td>\n",
              "      <td>say anni list polit group support third trimes...</td>\n",
              "      <td>abortion</td>\n",
              "      <td>dwayne-bohac</td>\n",
              "      <td>State representative</td>\n",
              "      <td>Texas</td>\n",
              "      <td>republican</td>\n",
              "      <td>0.0</td>\n",
              "      <td>1.0</td>\n",
              "      <td>...</td>\n",
              "      <td>0.2500</td>\n",
              "      <td>0.115</td>\n",
              "      <td>0.692</td>\n",
              "      <td>0.192</td>\n",
              "      <td>-0.176395</td>\n",
              "      <td>0.7504</td>\n",
              "      <td>0.918997</td>\n",
              "      <td>0.824029</td>\n",
              "      <td>0.0</td>\n",
              "      <td>0.000000</td>\n",
              "    </tr>\n",
              "    <tr>\n",
              "      <th>1</th>\n",
              "      <td>10540.json</td>\n",
              "      <td>half-true</td>\n",
              "      <td>declin coal start start natur gas took start b...</td>\n",
              "      <td>energy,history,job-accomplishments</td>\n",
              "      <td>scott-surovell</td>\n",
              "      <td>State delegate</td>\n",
              "      <td>Virginia</td>\n",
              "      <td>democrat</td>\n",
              "      <td>0.0</td>\n",
              "      <td>0.0</td>\n",
              "      <td>...</td>\n",
              "      <td>0.3612</td>\n",
              "      <td>0.000</td>\n",
              "      <td>0.902</td>\n",
              "      <td>0.098</td>\n",
              "      <td>0.278762</td>\n",
              "      <td>0.2960</td>\n",
              "      <td>0.979303</td>\n",
              "      <td>0.974556</td>\n",
              "      <td>0.0</td>\n",
              "      <td>0.000000</td>\n",
              "    </tr>\n",
              "    <tr>\n",
              "      <th>2</th>\n",
              "      <td>324.json</td>\n",
              "      <td>mostly-true</td>\n",
              "      <td>hillari clinton agre john mccain vote give geo...</td>\n",
              "      <td>foreign-policy</td>\n",
              "      <td>barack-obama</td>\n",
              "      <td>President</td>\n",
              "      <td>Illinois</td>\n",
              "      <td>democrat</td>\n",
              "      <td>70.0</td>\n",
              "      <td>71.0</td>\n",
              "      <td>...</td>\n",
              "      <td>0.3182</td>\n",
              "      <td>0.107</td>\n",
              "      <td>0.687</td>\n",
              "      <td>0.206</td>\n",
              "      <td>0.056696</td>\n",
              "      <td>0.9042</td>\n",
              "      <td>0.983626</td>\n",
              "      <td>0.978959</td>\n",
              "      <td>0.0</td>\n",
              "      <td>0.000000</td>\n",
              "    </tr>\n",
              "    <tr>\n",
              "      <th>3</th>\n",
              "      <td>1123.json</td>\n",
              "      <td>false</td>\n",
              "      <td>health care reform legisl like mandat free sex...</td>\n",
              "      <td>health-care</td>\n",
              "      <td>blog-posting</td>\n",
              "      <td>NaN</td>\n",
              "      <td>NaN</td>\n",
              "      <td>none</td>\n",
              "      <td>7.0</td>\n",
              "      <td>19.0</td>\n",
              "      <td>...</td>\n",
              "      <td>0.7579</td>\n",
              "      <td>0.000</td>\n",
              "      <td>0.606</td>\n",
              "      <td>0.394</td>\n",
              "      <td>0.112031</td>\n",
              "      <td>1.4691</td>\n",
              "      <td>0.731893</td>\n",
              "      <td>1.000000</td>\n",
              "      <td>0.0</td>\n",
              "      <td>0.000000</td>\n",
              "    </tr>\n",
              "    <tr>\n",
              "      <th>4</th>\n",
              "      <td>9028.json</td>\n",
              "      <td>half-true</td>\n",
              "      <td>econom turnaround start end term</td>\n",
              "      <td>economy,jobs</td>\n",
              "      <td>charlie-crist</td>\n",
              "      <td>NaN</td>\n",
              "      <td>Florida</td>\n",
              "      <td>democrat</td>\n",
              "      <td>15.0</td>\n",
              "      <td>9.0</td>\n",
              "      <td>...</td>\n",
              "      <td>0.0000</td>\n",
              "      <td>0.000</td>\n",
              "      <td>1.000</td>\n",
              "      <td>0.000</td>\n",
              "      <td>-0.130028</td>\n",
              "      <td>0.9517</td>\n",
              "      <td>0.985603</td>\n",
              "      <td>0.982234</td>\n",
              "      <td>0.0</td>\n",
              "      <td>0.023431</td>\n",
              "    </tr>\n",
              "  </tbody>\n",
              "</table>\n",
              "<p>5 rows × 42 columns</p>\n",
              "</div>"
            ],
            "text/plain": [
              "           id        label                                               text  \\\n",
              "0   2635.json        false  say anni list polit group support third trimes...   \n",
              "1  10540.json    half-true  declin coal start start natur gas took start b...   \n",
              "2    324.json  mostly-true  hillari clinton agre john mccain vote give geo...   \n",
              "3   1123.json        false  health care reform legisl like mandat free sex...   \n",
              "4   9028.json    half-true                   econom turnaround start end term   \n",
              "\n",
              "                              subject         speaker                 title  \\\n",
              "0                            abortion    dwayne-bohac  State representative   \n",
              "1  energy,history,job-accomplishments  scott-surovell        State delegate   \n",
              "2                      foreign-policy    barack-obama             President   \n",
              "3                         health-care    blog-posting                   NaN   \n",
              "4                        economy,jobs   charlie-crist                   NaN   \n",
              "\n",
              "      state       party  barely true  false       ...        compound_stance  \\\n",
              "0     Texas  republican          0.0    1.0       ...                 0.2500   \n",
              "1  Virginia    democrat          0.0    0.0       ...                 0.3612   \n",
              "2  Illinois    democrat         70.0   71.0       ...                 0.3182   \n",
              "3       NaN        none          7.0   19.0       ...                 0.7579   \n",
              "4   Florida    democrat         15.0    9.0       ...                 0.0000   \n",
              "\n",
              "     neg    neu    pos title-body Doc2Vec-cosine-similarity  \\\n",
              "0  0.115  0.692  0.192                            -0.176395   \n",
              "1  0.000  0.902  0.098                             0.278762   \n",
              "2  0.107  0.687  0.206                             0.056696   \n",
              "3  0.000  0.606  0.394                             0.112031   \n",
              "4  0.000  1.000  0.000                            -0.130028   \n",
              "\n",
              "   body-title sentiment-correlation  lda-bow title-body-correlation  \\\n",
              "0                            0.7504                        0.918997   \n",
              "1                            0.2960                        0.979303   \n",
              "2                            0.9042                        0.983626   \n",
              "3                            1.4691                        0.731893   \n",
              "4                            0.9517                        0.985603   \n",
              "\n",
              "   lda-tfidf title-body-correlation  Controversial  sensationalism  \n",
              "0                          0.824029            0.0        0.000000  \n",
              "1                          0.974556            0.0        0.000000  \n",
              "2                          0.978959            0.0        0.000000  \n",
              "3                          1.000000            0.0        0.000000  \n",
              "4                          0.982234            0.0        0.023431  \n",
              "\n",
              "[5 rows x 42 columns]"
            ]
          },
          "metadata": {
            "tags": []
          },
          "execution_count": 38
        }
      ]
    },
    {
      "metadata": {
        "id": "3WU1ufTrRMqO",
        "colab_type": "text"
      },
      "cell_type": "markdown",
      "source": [
        "We run Logistic regression and Random Forest regression to get the coefficients and feature importances for each feature. We will use it to generate a polynomial equation to determine fakeness\n"
      ]
    },
    {
      "metadata": {
        "id": "0sLOQCWvy736",
        "colab_type": "code",
        "colab": {}
      },
      "cell_type": "code",
      "source": [
        "#features = ['grammar_error', 'spell_error', 'religion', 'hate_speech_confidence', 'offsensive_speech_confidence', 'clean_speech_confidence', 'troll', 'lexical_factor_vector_score', \"barely true\",\"false\",\"half true\",\"mostly true\",\"pants on fire\", 'compound_stance',\t'neg',\t'neu',\t'pos', 'headline_polarity', 'confidence_republican', 'confidence_democrat', 'confidence_no_affliation',  'confidence_other']\n",
        "features = ['grammar_error', 'spell_error', 'religion', 'hate_speech_confidence', 'offsensive_speech_confidence', 'clean_speech_confidence', 'troll', 'lexical_factor_vector_score', \"barely true\",\"false\",\"half true\",\"mostly true\",\"pants on fire\", 'compound_stance',\t'neg',\t'neu',\t'pos', 'headline_polarity', 'confidence_republican', 'confidence_democrat', 'confidence_no_affliation',  'confidence_other', 'sensationalism', 'Controversial', 'title-body Doc2Vec-cosine-similarity','body-title sentiment-correlation','lda-bow title-body-correlation','lda-tfidf title-body-correlation']\n",
        "X = df[features]\n",
        "Y = df[['fake_coded']]\n",
        "X = X.fillna(0);\n",
        "Y = Y.fillna(0);\n"
      ],
      "execution_count": 0,
      "outputs": []
    },
    {
      "metadata": {
        "id": "IhmiRQbTzKd_",
        "colab_type": "code",
        "outputId": "d4ac5de7-997a-4cba-b017-aaf9353af144",
        "colab": {
          "base_uri": "https://localhost:8080/",
          "height": 445
        }
      },
      "cell_type": "code",
      "source": [
        "X_train, X_test, y_train, y_test = train_test_split(X, Y, test_size=0.4, random_state=0)\n",
        "RF = RandomForestClassifier(n_estimators=100)\n",
        "RF.fit(X_train,y_train)\n",
        "print (\"Score:\", RF.score(X_test, y_test))\n",
        "a = RF.predict_proba(X_test)\n",
        "b = RF.predict(X_test)\n",
        "print(y_test[:10])\n",
        "print(a[:10])"
      ],
      "execution_count": 0,
      "outputs": [
        {
          "output_type": "stream",
          "text": [
            "/usr/local/lib/python3.6/dist-packages/ipykernel_launcher.py:3: DataConversionWarning: A column-vector y was passed when a 1d array was expected. Please change the shape of y to (n_samples,), for example using ravel().\n",
            "  This is separate from the ipykernel package so we can avoid doing imports until\n"
          ],
          "name": "stderr"
        },
        {
          "output_type": "stream",
          "text": [
            "Score: 0.716796875\n",
            "      fake_coded\n",
            "2730           0\n",
            "39             1\n",
            "528            1\n",
            "2075           1\n",
            "3896           1\n",
            "8151           1\n",
            "8024           1\n",
            "2782           1\n",
            "8428           0\n",
            "9863           0\n",
            "[[0.62 0.38]\n",
            " [0.39 0.61]\n",
            " [0.39 0.61]\n",
            " [0.41 0.59]\n",
            " [0.28 0.72]\n",
            " [0.21 0.79]\n",
            " [0.27 0.73]\n",
            " [0.02 0.98]\n",
            " [0.16 0.84]\n",
            " [0.45 0.55]]\n"
          ],
          "name": "stdout"
        }
      ]
    },
    {
      "metadata": {
        "id": "vrerINZx1eoI",
        "colab_type": "code",
        "outputId": "b7c41c4f-ee4e-48a5-e4b3-a62cb8629903",
        "colab": {
          "base_uri": "https://localhost:8080/",
          "height": 1164
        }
      },
      "cell_type": "code",
      "source": [
        "feature_imp = pd.Series(RF.feature_importances_,index=X_train.columns).sort_values(ascending=False)\n",
        "index=X_train.columns\n",
        "%matplotlib inline\n",
        "fig, ax = plt.subplots(figsize=(10,10))\n",
        "sns.barplot(x=feature_imp, y=feature_imp.index)\n",
        "# Add labels to your graph\n",
        "plt.xlabel('Feature Importance Score')\n",
        "plt.ylabel('Feature')\n",
        "plt.title(\"Important Features\")\n",
        "plt.legend()\n",
        "plt.show()\n",
        "print(feature_imp)"
      ],
      "execution_count": 0,
      "outputs": [
        {
          "output_type": "stream",
          "text": [
            "/usr/local/lib/python3.6/dist-packages/seaborn/categorical.py:1428: FutureWarning: remove_na is deprecated and is a private function. Do not use.\n",
            "  stat_data = remove_na(group_data)\n",
            "No handles with labels found to put in legend.\n"
          ],
          "name": "stderr"
        },
        {
          "output_type": "display_data",
          "data": {
            "image/png": "[encoded data removed]",
            "text/plain": [
              "<matplotlib.figure.Figure at 0x7fa537eaf128>"
            ]
          },
          "metadata": {
            "tags": []
          }
        },
        {
          "output_type": "stream",
          "text": [
            "false                                   0.069451\n",
            "barely true                             0.063697\n",
            "pants on fire                           0.055385\n",
            "mostly true                             0.054880\n",
            "troll                                   0.052943\n",
            "half true                               0.052548\n",
            "confidence_democrat                     0.048883\n",
            "confidence_no_affliation                0.045632\n",
            "confidence_republican                   0.045599\n",
            "lexical_factor_vector_score             0.044849\n",
            "title-body Doc2Vec-cosine-similarity    0.043606\n",
            "confidence_other                        0.042310\n",
            "lda-tfidf title-body-correlation        0.041656\n",
            "lda-bow title-body-correlation          0.041594\n",
            "body-title sentiment-correlation        0.041469\n",
            "clean_speech_confidence                 0.038876\n",
            "offsensive_speech_confidence            0.038447\n",
            "compound_stance                         0.029064\n",
            "neu                                     0.028709\n",
            "pos                                     0.021952\n",
            "hate_speech_confidence                  0.021594\n",
            "neg                                     0.018758\n",
            "spell_error                             0.017447\n",
            "sensationalism                          0.017050\n",
            "grammar_error                           0.011874\n",
            "headline_polarity                       0.006292\n",
            "religion                                0.003708\n",
            "Controversial                           0.001727\n",
            "dtype: float64\n"
          ],
          "name": "stdout"
        }
      ]
    },
    {
      "metadata": {
        "id": "sBdByzbg1gkJ",
        "colab_type": "code",
        "outputId": "ce5a33b6-ee87-4a27-e98f-f0576fad1302",
        "colab": {
          "base_uri": "https://localhost:8080/",
          "height": 190
        }
      },
      "cell_type": "code",
      "source": [
        "lm = linear_model.LogisticRegression()\n",
        "model = lm.fit(X_train, y_train)\n",
        "predictions = lm.predict(X_test)\n",
        "print(model)\n",
        "print (\"Score:\", model.score(X_test, y_test))"
      ],
      "execution_count": 0,
      "outputs": [
        {
          "output_type": "stream",
          "text": [
            "/usr/local/lib/python3.6/dist-packages/sklearn/linear_model/logistic.py:433: FutureWarning: Default solver will be changed to 'lbfgs' in 0.22. Specify a solver to silence this warning.\n",
            "  FutureWarning)\n",
            "/usr/local/lib/python3.6/dist-packages/sklearn/utils/validation.py:761: DataConversionWarning: A column-vector y was passed when a 1d array was expected. Please change the shape of y to (n_samples, ), for example using ravel().\n",
            "  y = column_or_1d(y, warn=True)\n"
          ],
          "name": "stderr"
        },
        {
          "output_type": "stream",
          "text": [
            "LogisticRegression(C=1.0, class_weight=None, dual=False, fit_intercept=True,\n",
            "          intercept_scaling=1, max_iter=100, multi_class='warn',\n",
            "          n_jobs=None, penalty='l2', random_state=None, solver='warn',\n",
            "          tol=0.0001, verbose=0, warm_start=False)\n",
            "Score: 0.602294921875\n"
          ],
          "name": "stdout"
        }
      ]
    },
    {
      "metadata": {
        "id": "b9X1z09h4glp",
        "colab_type": "code",
        "outputId": "c9b92ea4-0727-41f6-b656-fc1d3e572da4",
        "colab": {
          "base_uri": "https://localhost:8080/",
          "height": 493
        }
      },
      "cell_type": "code",
      "source": [
        "for i in range(0,len(model.coef_[0])):\n",
        "    print (features[i], model.coef_[0][i])"
      ],
      "execution_count": 0,
      "outputs": [
        {
          "output_type": "stream",
          "text": [
            "grammar_error -0.06782130729525217\n",
            "spell_error 0.00973070799969336\n",
            "religion -0.37821596367443827\n",
            "hate_speech_confidence 0.22179065390343028\n",
            "offsensive_speech_confidence -0.6954199400672489\n",
            "clean_speech_confidence -0.5776482575765258\n",
            "troll 3.7430628129810866\n",
            "lexical_factor_vector_score 0.005937309210522443\n",
            "barely true -0.015907728063848298\n",
            "false 0.0002847153983823605\n",
            "half true 0.012141837617036922\n",
            "mostly true 0.0015617124451878545\n",
            "pants on fire -0.02149300354765071\n",
            "compound_stance -0.1109818712393586\n",
            "neg 0.057962420066082536\n",
            "neu -0.09188996822596882\n",
            "pos -1.0290077360922947\n",
            "headline_polarity 0.06679666716746976\n",
            "confidence_republican -0.4681475311309757\n",
            "confidence_democrat -0.08525806808368233\n",
            "confidence_no_affliation -0.40466847152750324\n",
            "confidence_other -0.09320493693705045\n",
            "sensationalism 0.16211412607271472\n",
            "Controversial 0.15829558515811565\n",
            "title-body Doc2Vec-cosine-similarity 0.19083921147340285\n",
            "body-title sentiment-correlation 0.06958365095431432\n",
            "lda-bow title-body-correlation -0.17635035135856886\n",
            "lda-tfidf title-body-correlation 0.09158508934574408\n"
          ],
          "name": "stdout"
        }
      ]
    },
    {
      "metadata": {
        "id": "GjXs2IitPks3",
        "colab_type": "text"
      },
      "cell_type": "markdown",
      "source": [
        "We create a polynomial equation out of the feature weights that are available "
      ]
    },
    {
      "metadata": {
        "id": "ZpxDqtd7_9uI",
        "colab_type": "code",
        "outputId": "a5186360-f557-4af9-f211-c744ebdc0600",
        "colab": {
          "base_uri": "https://localhost:8080/",
          "height": 547
        }
      },
      "cell_type": "code",
      "source": [
        "equation =  \"Y = \"\n",
        "i = 0;\n",
        "for x in feature_imp:\n",
        "  equation = equation + \" + (\" + features[i] + \"*\" + str(round(x, 2)) + \")\"\n",
        "  i = i + 1\n",
        "  \n",
        "\n",
        "i = 0\n",
        "print(equation)\n",
        "print(\"Feature Importances:\")\n",
        "for x in feature_imp:\n",
        "  print(features[i], \":\", round(x, 2))\n",
        "  i = i + 1"
      ],
      "execution_count": 0,
      "outputs": [
        {
          "output_type": "stream",
          "text": [
            "Y =  + (grammar_error*0.07) + (spell_error*0.06) + (religion*0.06) + (hate_speech_confidence*0.05) + (offsensive_speech_confidence*0.05) + (clean_speech_confidence*0.05) + (troll*0.05) + (lexical_factor_vector_score*0.05) + (barely true*0.05) + (false*0.04) + (half true*0.04) + (mostly true*0.04) + (pants on fire*0.04) + (compound_stance*0.04) + (neg*0.04) + (neu*0.04) + (pos*0.04) + (headline_polarity*0.03) + (confidence_republican*0.03) + (confidence_democrat*0.02) + (confidence_no_affliation*0.02) + (confidence_other*0.02) + (sensationalism*0.02) + (Controversial*0.02) + (title-body Doc2Vec-cosine-similarity*0.01) + (body-title sentiment-correlation*0.01) + (lda-bow title-body-correlation*0.0) + (lda-tfidf title-body-correlation*0.0)\n",
            "Feature Importances:\n",
            "grammar_error : 0.07\n",
            "spell_error : 0.06\n",
            "religion : 0.06\n",
            "hate_speech_confidence : 0.05\n",
            "offsensive_speech_confidence : 0.05\n",
            "clean_speech_confidence : 0.05\n",
            "troll : 0.05\n",
            "lexical_factor_vector_score : 0.05\n",
            "barely true : 0.05\n",
            "false : 0.04\n",
            "half true : 0.04\n",
            "mostly true : 0.04\n",
            "pants on fire : 0.04\n",
            "compound_stance : 0.04\n",
            "neg : 0.04\n",
            "neu : 0.04\n",
            "pos : 0.04\n",
            "headline_polarity : 0.03\n",
            "confidence_republican : 0.03\n",
            "confidence_democrat : 0.02\n",
            "confidence_no_affliation : 0.02\n",
            "confidence_other : 0.02\n",
            "sensationalism : 0.02\n",
            "Controversial : 0.02\n",
            "title-body Doc2Vec-cosine-similarity : 0.01\n",
            "body-title sentiment-correlation : 0.01\n",
            "lda-bow title-body-correlation : 0.0\n",
            "lda-tfidf title-body-correlation : 0.0\n"
          ],
          "name": "stdout"
        }
      ]
    },
    {
      "metadata": {
        "id": "LYOcfx78dMMz",
        "colab_type": "code",
        "outputId": "658456a3-24b9-4116-be6d-165bae5b8159",
        "colab": {
          "base_uri": "https://localhost:8080/",
          "height": 368
        }
      },
      "cell_type": "code",
      "source": [
        "from sklearn.metrics import confusion_matrix\n",
        "from sklearn import metrics\n",
        "cm = confusion_matrix(y_test, b)\n",
        "\n",
        "sns.heatmap(pd.DataFrame(cm), annot=True, cmap=\"YlGnBu\" ,fmt='g')\n",
        "\n",
        "plt.tight_layout()\n",
        "plt.title('Confusion matrix for PolynomialEquation', y=1.1)\n",
        "plt.ylabel('Actual label')\n",
        "plt.xlabel('Predicted label')\n",
        "print(\"Model Accuracy for PolynomialEquation:\",round(metrics.accuracy_score(y_test, b), 2) * 100, \"%\")"
      ],
      "execution_count": 0,
      "outputs": [
        {
          "output_type": "stream",
          "text": [
            "Model Accuracy for PolynomialEquation: 72.0 %\n"
          ],
          "name": "stdout"
        },
        {
          "output_type": "display_data",
          "data": {
            "image/png": "[encoded data removed]",
            "text/plain": [
              "<matplotlib.figure.Figure at 0x7fa535a8fb00>"
            ]
          },
          "metadata": {
            "tags": []
          }
        }
      ]
    },
    {
      "metadata": {
        "id": "OF3q0jvcQ02q",
        "colab_type": "code",
        "colab": {}
      },
      "cell_type": "code",
      "source": [
        ""
      ],
      "execution_count": 0,
      "outputs": []
    }
  ]
}